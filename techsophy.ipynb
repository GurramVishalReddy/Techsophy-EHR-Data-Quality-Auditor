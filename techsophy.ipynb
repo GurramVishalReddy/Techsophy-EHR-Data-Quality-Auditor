{
  "nbformat": 4,
  "nbformat_minor": 0,
  "metadata": {
    "colab": {
      "provenance": [],
      "authorship_tag": "ABX9TyPSWQglIdkPAWDmwfycwNgX",
      "include_colab_link": true
    },
    "kernelspec": {
      "name": "python3",
      "display_name": "Python 3"
    },
    "language_info": {
      "name": "python"
    }
  },
  "cells": [
    {
      "cell_type": "markdown",
      "metadata": {
        "id": "view-in-github",
        "colab_type": "text"
      },
      "source": [
        "<a href=\"https://colab.research.google.com/github/GurramVishalReddy/Techsophy-EHR-Data-Quality-Auditor/blob/main/techsophy.ipynb\" target=\"_parent\"><img src=\"https://colab.research.google.com/assets/colab-badge.svg\" alt=\"Open In Colab\"/></a>"
      ]
    },
    {
      "cell_type": "code",
      "execution_count": 3,
      "metadata": {
        "id": "f0wGQ1yIlmXj",
        "colab": {
          "base_uri": "https://localhost:8080/"
        },
        "outputId": "8b91a434-7aad-4462-9335-8ce1fff8a731"
      },
      "outputs": [
        {
          "output_type": "stream",
          "name": "stdout",
          "text": [
            "✅ Dataset Loaded\n",
            "\n",
            "🔎 Data Validation Summary\n",
            "----------------------------------------\n",
            "Missing Columns: ['HistoryHTN']\n",
            "Invalid Values in Sex: 0\n",
            "Invalid Values in HistoryDiabetes: 0\n",
            "Invalid Values in HistoryCHD: 0\n",
            "Invalid Values in HistoryVascular: 0\n",
            "Invalid Values in HistorySmoking: 0\n",
            "Invalid Values in HistoryDLD: 0\n",
            "Invalid Values in HistoryObesity: 0\n",
            "Invalid Values in DLDmeds: 0\n",
            "Invalid Values in ACEIARB: 0\n",
            "Invalid Values in EventCKD35: 0\n",
            "Out of Range in AgeBaseline: 0\n",
            "Out of Range in CholesterolBaseline: 0\n",
            "Out of Range in CreatinineBaseline: 1\n",
            "Out of Range in eGFRBaseline: 1\n",
            "Out of Range in sBPBaseline: 0\n",
            "Out of Range in dBPBaseline: 3\n",
            "Out of Range in BMIBaseline: 0\n",
            "\n",
            "⚠️ Error Detection Summary\n",
            "----------------------------------------\n",
            "Missing Values per Column: {'Sex': 0, 'AgeBaseline': 0, 'HistoryDiabetes': 0, 'HistoryCHD': 0, 'HistoryVascular': 0, 'HistorySmoking': 0, 'HistoryHTN ': 0, 'HistoryDLD': 0, 'HistoryObesity': 0, 'DLDmeds': 0, 'DMmeds': 0, 'HTNmeds': 0, 'ACEIARB': 0, 'CholesterolBaseline': 0, 'CreatinineBaseline': 0, 'eGFRBaseline': 0, 'sBPBaseline': 0, 'dBPBaseline': 0, 'BMIBaseline': 0, 'TimeToEventMonths': 0, 'EventCKD35': 0, 'TIME_YEAR': 0}\n",
            "Duplicate Rows: 0\n"
          ]
        }
      ],
      "source": [
        "import pandas as pd\n",
        "import numpy as np\n",
        "\n",
        "df = pd.read_csv('/content/ChronicKidneyDisease_EHRs_from_AbuDhabi.csv')\n",
        "print(\"✅ Dataset Loaded\")\n",
        "df.head()\n",
        "\n",
        "EXPECTED_COLUMNS = [\n",
        "    'Sex', 'AgeBaseline', 'HistoryDiabetes', 'HistoryCHD', 'HistoryVascular',\n",
        "    'HistorySmoking', 'HistoryHTN', 'HistoryDLD', 'HistoryObesity', 'DLDmeds',\n",
        "    'ACEIARB', 'CholesterolBaseline', 'CreatinineBaseline', 'eGFRBaseline',\n",
        "    'sBPBaseline', 'dBPBaseline', 'BMIBaseline', 'TimeToEventMonths',\n",
        "    'EventCKD35', 'TIME_YEAR'\n",
        "]\n",
        "\n",
        "COLUMN_RANGES = {\n",
        "    'AgeBaseline': (0, 120),\n",
        "    'CholesterolBaseline': (2, 10),\n",
        "    'CreatinineBaseline': (20, 150),\n",
        "    'eGFRBaseline': (0, 150),\n",
        "    'sBPBaseline': (80, 200),\n",
        "    'dBPBaseline': (50, 130),\n",
        "    'BMIBaseline': (10, 60),\n",
        "}\n",
        "\n",
        "CATEGORICAL_COLUMNS = {\n",
        "    'Sex': [0, 1],\n",
        "    'HistoryDiabetes': [0, 1],\n",
        "    'HistoryCHD': [0, 1],\n",
        "    'HistoryVascular': [0, 1],\n",
        "    'HistorySmoking': [0, 1],\n",
        "    'HistoryHTN': [0, 1],\n",
        "    'HistoryDLD': [0, 1],\n",
        "    'HistoryObesity': [0, 1],\n",
        "    'DLDmeds': [0, 1],\n",
        "    'ACEIARB': [0, 1],\n",
        "    'EventCKD35': [0, 1]\n",
        "}\n",
        "\n",
        "def validate_data(df):\n",
        "    report = {}\n",
        "    report['Missing Columns'] = [col for col in EXPECTED_COLUMNS if col not in df.columns]\n",
        "    for col, valid_vals in CATEGORICAL_COLUMNS.items():\n",
        "        if col in df.columns:\n",
        "            invalid_rows = df[~df[col].isin(valid_vals)]\n",
        "            report[f'Invalid Values in {col}'] = len(invalid_rows)\n",
        "    for col, (min_val, max_val) in COLUMN_RANGES.items():\n",
        "        if col in df.columns:\n",
        "            outliers = df[(df[col] < min_val) | (df[col] > max_val)]\n",
        "            report[f'Out of Range in {col}'] = len(outliers)\n",
        "\n",
        "    return report\n",
        "\n",
        "def detect_errors(df):\n",
        "    errors = {\n",
        "        'Missing Values per Column': df.isnull().sum().to_dict(),\n",
        "        'Duplicate Rows': df.duplicated().sum()\n",
        "    }\n",
        "    return errors\n",
        "\n",
        "def generate_report(validation_report, error_report):\n",
        "    print(\"\\n🔎 Data Validation Summary\")\n",
        "    print(\"-\" * 40)\n",
        "    for key, val in validation_report.items():\n",
        "        print(f\"{key}: {val}\")\n",
        "\n",
        "    print(\"\\n⚠️ Error Detection Summary\")\n",
        "    print(\"-\" * 40)\n",
        "    for key, val in error_report.items():\n",
        "        print(f\"{key}: {val}\")\n",
        "\n",
        "validation_report = validate_data(df)\n",
        "error_report = detect_errors(df)\n",
        "generate_report(validation_report, error_report)\n"
      ]
    }
  ]
}